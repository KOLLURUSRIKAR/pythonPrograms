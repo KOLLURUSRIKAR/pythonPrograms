{
  "nbformat": 4,
  "nbformat_minor": 0,
  "metadata": {
    "colab": {
      "name": "module 1 exercise.ipynb",
      "provenance": [],
      "collapsed_sections": [],
      "authorship_tag": "ABX9TyMPXuS1AOUo6Kwf9+T00HSF",
      "include_colab_link": true
    },
    "kernelspec": {
      "name": "python3",
      "display_name": "Python 3"
    },
    "language_info": {
      "name": "python"
    }
  },
  "cells": [
    {
      "cell_type": "markdown",
      "metadata": {
        "id": "view-in-github",
        "colab_type": "text"
      },
      "source": [
        "<a href=\"https://colab.research.google.com/github/KOLLURUSRIKAR/pythonPrograms/blob/MODULE-1/module_1_exercise.ipynb\" target=\"_parent\"><img src=\"https://colab.research.google.com/assets/colab-badge.svg\" alt=\"Open In Colab\"/></a>"
      ]
    },
    {
      "cell_type": "code",
      "execution_count": null,
      "metadata": {
        "colab": {
          "base_uri": "https://localhost:8080/"
        },
        "id": "PVZcm_guSM7P",
        "outputId": "04285e99-bb18-4526-9e17-9ac2042e8fd1"
      },
      "outputs": [
        {
          "output_type": "stream",
          "name": "stdout",
          "text": [
            "enter a number: 567\n",
            "567\n",
            "89\n"
          ]
        }
      ],
      "source": [
        "# Accept input from user and store it in variable and print the value\n",
        "a=int(input(\"enter a number: \"))\n",
        "print(a)\n",
        "a=89\n",
        "print(a)"
      ]
    },
    {
      "cell_type": "code",
      "source": [
        "#Use of print statements and use of (.format )for printing different data types\n",
        "a=\"my name is {name}, and iam pursuing my {stream} in Gitam institute of technology\".format(name=\"srikar\",stream=\"Btech\")\n",
        "print(a)"
      ],
      "metadata": {
        "id": "iYTzeonxSvdt",
        "colab": {
          "base_uri": "https://localhost:8080/"
        },
        "outputId": "ac50cca7-a6a2-470e-ef0e-ef3856d9dcbb"
      },
      "execution_count": null,
      "outputs": [
        {
          "output_type": "stream",
          "name": "stdout",
          "text": [
            "my name is srikar, and iam pursuing my Btech in Gitam institute of technology\n"
          ]
        }
      ]
    },
    {
      "cell_type": "code",
      "source": [
        "# Take 2 numbers as user input and add, multiply, divide, subtract, remainder and print\n",
        "# the output (Same operations on floating point input as well)\n",
        "a=int(input(\"enter first number: \"))\n",
        "b=int(input(\"enter second number: \"))\n",
        "add=a+b\n",
        "sub=a-b\n",
        "mul=a*b\n",
        "div=a//b\n",
        "rem=a%b\n",
        "print(\"addition= \",add)\n",
        "print(\"subtract= \",sub)\n",
        "print(\"multiply= \",mul)\n",
        "print(\"division= \",div)\n",
        "print(\"remainder= \",rem)"
      ],
      "metadata": {
        "colab": {
          "base_uri": "https://localhost:8080/"
        },
        "id": "3wtQCfN0VHLF",
        "outputId": "be432fcf-a9da-4728-e645-502473a24f16"
      },
      "execution_count": null,
      "outputs": [
        {
          "output_type": "stream",
          "name": "stdout",
          "text": [
            "enter first number: 2\n",
            "enter second number: 3\n",
            "addition=  5\n",
            "subtract=  -1\n",
            "multiply=  6\n",
            "division=  0\n",
            "remainder=  2\n"
          ]
        }
      ]
    },
    {
      "cell_type": "code",
      "source": [
        "#Conversion of one unit to another (such as hours to minutes, miles to km and etc)\n",
        "a=float(input(\"Enter hours: \"))\n",
        "print(\"hours to minutes= \",a*60)\n",
        "b=float(input(\"Enter miles= \"))\n",
        "print(\"miles to km= \",b/0.621371)"
      ],
      "metadata": {
        "colab": {
          "base_uri": "https://localhost:8080/"
        },
        "id": "H1ZLZZzQWX2F",
        "outputId": "c0c8b972-fe3f-4851-e12a-354d56dee2ee"
      },
      "execution_count": null,
      "outputs": [
        {
          "output_type": "stream",
          "name": "stdout",
          "text": [
            "Enter hours: 3\n",
            "hours to minutes=  180.0\n",
            "Enter miles= 2.17\n",
            "miles to km=  3.4922775604268623\n"
          ]
        }
      ]
    },
    {
      "cell_type": "code",
      "source": [
        "#Usage of mathematical functions in python like math.ceil, floor, fabs, fmod, trunc,\n",
        "#pow, sqrt etc.\n",
        "import math\n",
        "a=float(input(\"enter a number: \"))\n",
        "b=float(input(\"enter second number: \"))\n",
        "print(math.ceil(a))\n",
        "print(math.floor(a))\n",
        "print(math.fabs(a))\n",
        "print(math.fmod(a,b))\n",
        "print(math.trunc(a))\n",
        "print(math.pow(4,2))\n",
        "print(math.sqrt(49))"
      ],
      "metadata": {
        "colab": {
          "base_uri": "https://localhost:8080/"
        },
        "id": "lPiixKZFXbaE",
        "outputId": "802cbb32-c59f-4541-c7ba-2f8df8926b15"
      },
      "execution_count": null,
      "outputs": [
        {
          "output_type": "stream",
          "name": "stdout",
          "text": [
            "enter a number: 4.567\n",
            "enter second number: -3.256\n",
            "5\n",
            "4\n",
            "4.567\n",
            "1.3110000000000004\n",
            "4\n",
            "16.0\n",
            "7.0\n"
          ]
        }
      ]
    },
    {
      "cell_type": "code",
      "source": [
        "# Building a mathematical calculator that can perform operations according to user input.\n",
        "# Use decision making statement.\n",
        "a=int(input(\"enter first number: \"))\n",
        "b=int(input(\"enter second number: \"))\n",
        "operation=str(input(\"enter operation that need to be performed: \"))\n",
        "if(operation==\"add\"):\n",
        "  print(a+b)\n",
        "elif(operation==\"sub\"):\n",
        "  print(a-b)\n",
        "elif(operation==\"mul\"):\n",
        "  print(a*b)\n",
        "elif(operation==\"div\"):\n",
        "  print(a//b)\n",
        "elif(operation==\"rem\"):\n",
        "  print(a%b)\n",
        "else:\n",
        "  print(\"enter a valid operation\")"
      ],
      "metadata": {
        "colab": {
          "base_uri": "https://localhost:8080/"
        },
        "id": "wRx3Dgb_b-dk",
        "outputId": "92226fa4-756d-449c-d155-d2626316b63a"
      },
      "execution_count": null,
      "outputs": [
        {
          "output_type": "stream",
          "name": "stdout",
          "text": [
            "enter first number: 2\n",
            "enter second number: 3\n",
            "enter operation that need to be performed: add\n",
            "5\n"
          ]
        }
      ]
    },
    {
      "cell_type": "code",
      "source": [
        "#Accepting 5 different subject marks from user and displaying the grade of the student\n",
        "a=float(input(\"sub 1 marks: \"))\n",
        "b=float(input(\"sub 2 marks: \"))\n",
        "c=float(input(\"sub 3 marks: \"))\n",
        "d=float(input(\"sub 4 marks: \"))\n",
        "e=float(input(\"sub 5 marks: \"))\n",
        "avg=(a+b+c+d+e)/5\n",
        "if(avg>=90):\n",
        "  print(\"O grade\")\n",
        "elif(avg>=80):\n",
        "  print(\"A+ grade\")\n",
        "elif(avg>=70):\n",
        "  print(\"A GRADE\")\n",
        "elif(avg>=60):\n",
        "  print(\"B GRADE\")\n",
        "elif(avg>=50):\n",
        "  print(\"C GRADE\")\n",
        "else:\n",
        "  print(\"fail\")\n"
      ],
      "metadata": {
        "colab": {
          "base_uri": "https://localhost:8080/"
        },
        "id": "ibldyuOUcOpJ",
        "outputId": "fd0aaa5d-c46e-4f1f-d4be-60c01bb20b44"
      },
      "execution_count": null,
      "outputs": [
        {
          "output_type": "stream",
          "name": "stdout",
          "text": [
            "sub 1 marks: 90\n",
            "sub 2 marks: 90\n",
            "sub 3 marks: 90\n",
            "sub 4 marks: 90\n",
            "sub 5 marks: 90\n",
            "O grade\n"
          ]
        }
      ]
    },
    {
      "cell_type": "code",
      "source": [
        "# Printing all even numbers, odd numbers, count of even numbers, count of odd numbers\n",
        "# within a given range.\n",
        "n=int(input(\"enter a range: \"))\n",
        "print(\"even numbers are : \")\n",
        "c=0\n",
        "for i in range(1,n+1):\n",
        "  if(i%2==0):\n",
        "    c+=1\n",
        "    print(i)\n",
        "print(\"no of even numbers are: \",c)\n",
        "print(\"odd numbers are: \")\n",
        "d=0\n",
        "for j in range(1,n+1):\n",
        "  if(j%2!=0):\n",
        "    d+=1\n",
        "    print(j)\n",
        "print(\"no of odd numbers are: \",d)"
      ],
      "metadata": {
        "colab": {
          "base_uri": "https://localhost:8080/"
        },
        "id": "HXbKHYlxeLuY",
        "outputId": "b1629238-0dbe-4330-9fcb-2c0afd9fe94d"
      },
      "execution_count": null,
      "outputs": [
        {
          "output_type": "stream",
          "name": "stdout",
          "text": [
            "enter a range: 30\n",
            "even numbers are : \n",
            "2\n",
            "4\n",
            "6\n",
            "8\n",
            "10\n",
            "12\n",
            "14\n",
            "16\n",
            "18\n",
            "20\n",
            "22\n",
            "24\n",
            "26\n",
            "28\n",
            "30\n",
            "no of even numbers are:  15\n",
            "odd numbers are: \n",
            "1\n",
            "3\n",
            "5\n",
            "7\n",
            "9\n",
            "11\n",
            "13\n",
            "15\n",
            "17\n",
            "19\n",
            "21\n",
            "23\n",
            "25\n",
            "27\n",
            "29\n",
            "no of odd numbers are:  15\n"
          ]
        }
      ]
    },
    {
      "cell_type": "code",
      "source": [
        "# Compute the factorial of a given number. b) Compute GCD of two given\n",
        "# numbers. c) Generate Fibonacci series up to N numbers.\n",
        "# factoriaL\n",
        "a=int(input(\"enter a number: \"))\n",
        "fac=1\n",
        "for i in range(1,a+1):\n",
        "  fac=fac*i\n",
        "print(fac)"
      ],
      "metadata": {
        "colab": {
          "base_uri": "https://localhost:8080/"
        },
        "id": "qqJYwfW_hwqB",
        "outputId": "cb563632-03a1-4f10-b3a8-0c0e956cc4c9"
      },
      "execution_count": null,
      "outputs": [
        {
          "output_type": "stream",
          "name": "stdout",
          "text": [
            "enter a number: 5\n",
            "120\n"
          ]
        }
      ]
    },
    {
      "cell_type": "code",
      "source": [
        "# gcd of two numbers\n",
        "a=int(input(\"enter first number: \"))\n",
        "b=int(input(\"enter second number: \"))\n",
        "d=a if (a<b) else b\n",
        "while True:\n",
        "  if(a%d==0 and b%d==0):\n",
        "    break\n",
        "  d-=1\n",
        "print(d)"
      ],
      "metadata": {
        "colab": {
          "base_uri": "https://localhost:8080/"
        },
        "id": "cKCMEsSYihvb",
        "outputId": "a7789b43-6aaa-4667-98fa-11bca2f84c68"
      },
      "execution_count": null,
      "outputs": [
        {
          "output_type": "stream",
          "name": "stdout",
          "text": [
            "enter first number: 2\n",
            "enter second number: 3\n",
            "1\n"
          ]
        }
      ]
    },
    {
      "cell_type": "code",
      "source": [
        "# fibanocci series\n",
        "n=int(input(\"enter range: \"))\n",
        "a=0\n",
        "b=1\n",
        "print(a,end=\" \")\n",
        "print(b,end=\" \")\n",
        "for i in range(1,n-1):\n",
        "  c=a+b\n",
        "  print(c,end=\" \")\n",
        "  a=b\n",
        "  b=c\n"
      ],
      "metadata": {
        "colab": {
          "base_uri": "https://localhost:8080/"
        },
        "id": "gCDHmcXVjrOA",
        "outputId": "54721679-eb83-4db8-c49c-b83c119a221c"
      },
      "execution_count": null,
      "outputs": [
        {
          "output_type": "stream",
          "name": "stdout",
          "text": [
            "enter range: 10\n",
            "0 1 1 2 3 5 8 13 21 34 "
          ]
        }
      ]
    },
    {
      "cell_type": "code",
      "source": [
        "# palindrome\n",
        "a=int(input(\"enter a number: \"))\n",
        "b=a\n",
        "rev=0\n",
        "while(a!=0):\n",
        "  r=a%10\n",
        "  rev=rev*10+r\n",
        "  a=a//10\n",
        "print(rev)\n",
        "if(rev==b):\n",
        "  print(\" palindrome\")\n",
        "else:\n",
        "  print(\" not a palindome\")"
      ],
      "metadata": {
        "id": "Bs5nbUtzj__G",
        "colab": {
          "base_uri": "https://localhost:8080/"
        },
        "outputId": "cf2c7cd8-6107-4e2d-f9d1-56a70b377aef"
      },
      "execution_count": null,
      "outputs": [
        {
          "output_type": "stream",
          "name": "stdout",
          "text": [
            "enter a number: 1221\n",
            "1221\n",
            " palindrome\n"
          ]
        }
      ]
    },
    {
      "cell_type": "code",
      "source": [
        "# strong number\n",
        "n=int(input(\"enter a number: \"))\n",
        "t=n\n",
        "sum=0\n",
        "while(n !=0):\n",
        "  r=n%10\n",
        "  fac=1\n",
        "  while(r !=1):\n",
        "    fac=fac*r\n",
        "    r=r-1\n",
        "  sum=sum+fac\n",
        "  n=n//10\n",
        "if(sum==t):\n",
        "  print(\"strong number\")\n",
        "else:\n",
        "  print(\"Not a strong number\")"
      ],
      "metadata": {
        "colab": {
          "base_uri": "https://localhost:8080/"
        },
        "id": "bm0mXXpVt448",
        "outputId": "d320b173-cc00-4f1b-8d08-5033248fba9a"
      },
      "execution_count": null,
      "outputs": [
        {
          "output_type": "stream",
          "name": "stdout",
          "text": [
            "enter a number: 145\n",
            "it is a strong number\n"
          ]
        }
      ]
    },
    {
      "cell_type": "code",
      "source": [
        "# perfect number\n",
        "n=int(input(\"enter a number: \"))\n",
        "s=0\n",
        "for i in range(1,(n//2+1)):\n",
        "  if n%i == 0:\n",
        "    s+=i\n",
        "\n",
        "if(s == n):\n",
        "  print(\"perfect number\")\n",
        "else:\n",
        "  print(\"not a perfect number\")"
      ],
      "metadata": {
        "colab": {
          "base_uri": "https://localhost:8080/"
        },
        "id": "3SylAkEayWrM",
        "outputId": "9bed5a9c-76e8-4cf9-bd42-a4ecf1cb44f2"
      },
      "execution_count": null,
      "outputs": [
        {
          "output_type": "stream",
          "name": "stdout",
          "text": [
            "enter a number: 28\n",
            "perfect number\n"
          ]
        }
      ]
    },
    {
      "cell_type": "code",
      "source": [
        "#compound interest\n",
        "p=int(input(\"Amount :\"))\n",
        "r=int(input(\"rate :\"))\n",
        "t=int(input(\"time :\"))\n",
        "CI=p*pow(1+r/100,t)-p\n",
        "print(\"compound intrest :\",CI)"
      ],
      "metadata": {
        "colab": {
          "base_uri": "https://localhost:8080/"
        },
        "id": "Y9YYeA857Y-v",
        "outputId": "891f5294-8dce-4eaa-bb30-f2b82b1ab1d9"
      },
      "execution_count": null,
      "outputs": [
        {
          "output_type": "stream",
          "name": "stdout",
          "text": [
            "Amount :5000\n",
            "rate :3\n",
            "time :2\n",
            "compound intrest : 304.5\n"
          ]
        }
      ]
    }
  ]
}