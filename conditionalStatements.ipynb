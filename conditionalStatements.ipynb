{
  "nbformat": 4,
  "nbformat_minor": 0,
  "metadata": {
    "colab": {
      "name": "conditionalStatements.ipynb",
      "provenance": [],
      "authorship_tag": "ABX9TyPFt5Hx63ExS4/WA1MA7eHb",
      "include_colab_link": true
    },
    "kernelspec": {
      "name": "python3",
      "display_name": "Python 3"
    },
    "language_info": {
      "name": "python"
    }
  },
  "cells": [
    {
      "cell_type": "markdown",
      "metadata": {
        "id": "view-in-github",
        "colab_type": "text"
      },
      "source": [
        "<a href=\"https://colab.research.google.com/github/KOLLURUSRIKAR/pythonPrograms/blob/MODULE-1/conditionalStatements.ipynb\" target=\"_parent\"><img src=\"https://colab.research.google.com/assets/colab-badge.svg\" alt=\"Open In Colab\"/></a>"
      ]
    },
    {
      "cell_type": "code",
      "source": [
        "#find out the person the person is eligible to vote or not\n",
        "a=int(input(\"enter age: \"))\n",
        "if(a>=18):\n",
        " print(\"eligible\")\n",
        "else: \n",
        " print(\"not eligible\")"
      ],
      "metadata": {
        "colab": {
          "base_uri": "https://localhost:8080/"
        },
        "id": "7SLGZxXHJdi1",
        "outputId": "04491a8a-9c8c-4638-9a51-4e1f2d64e14a"
      },
      "execution_count": null,
      "outputs": [
        {
          "output_type": "stream",
          "name": "stdout",
          "text": [
            "enter age: 50\n",
            "eligible\n"
          ]
        }
      ]
    },
    {
      "cell_type": "code",
      "source": [
        "a=15;\n",
        "if(a>=18):\n",
        "  print(\"eligible to vote\")\n",
        "else:\n",
        "  print(\"not eligible to vote\")"
      ],
      "metadata": {
        "colab": {
          "base_uri": "https://localhost:8080/"
        },
        "id": "3WUru-zfMV3R",
        "outputId": "8f7b26ac-357d-479a-821e-94ace28c6248"
      },
      "execution_count": null,
      "outputs": [
        {
          "output_type": "stream",
          "name": "stdout",
          "text": [
            "not eligible to vote\n"
          ]
        }
      ]
    },
    {
      "cell_type": "code",
      "source": [
        "#maximum of three numbers\n",
        "a=int(input(\"enter a: \"))\n",
        "b=int(input(\"enter b: \"))\n",
        "c=int(input(\"enter c: \"))\n",
        "if(a>b and a>c):\n",
        "  print(\"a is maximum\")\n",
        "elif(b>c):\n",
        "  print(\"b is maximum\")\n",
        "else:\n",
        "  print(\"c is maximum\")"
      ],
      "metadata": {
        "colab": {
          "base_uri": "https://localhost:8080/"
        },
        "id": "dhzCKdG0MyoF",
        "outputId": "2d28bc6a-4e97-4e63-ec04-ace62bcbd0e2"
      },
      "execution_count": null,
      "outputs": [
        {
          "output_type": "stream",
          "name": "stdout",
          "text": [
            "enter a: 12\n",
            "enter b: 51\n",
            "enter c: 8\n",
            "b is maximum\n"
          ]
        }
      ]
    },
    {
      "cell_type": "code",
      "source": [
        "a=1000;b=120;c=80;\n",
        "if(a>b and a>c):\n",
        "  print(\"a is maximum\")\n",
        "elif(b>c):\n",
        "  print(\"b is maximum\")\n",
        "else:\n",
        "  print(\"c is maximum\")\n"
      ],
      "metadata": {
        "colab": {
          "base_uri": "https://localhost:8080/"
        },
        "id": "SoOQyp2hNqtG",
        "outputId": "9f3e4d1e-634a-4c7e-9420-3a76e06c0ba2"
      },
      "execution_count": null,
      "outputs": [
        {
          "output_type": "stream",
          "name": "stdout",
          "text": [
            "a is maximum\n"
          ]
        }
      ]
    },
    {
      "cell_type": "code",
      "source": [
        "#minimum of three numbers\n",
        "a=int(input(\"enter a: \"))\n",
        "b=int(input(\"enter b: \"))\n",
        "c=int(input(\"enter c: \"))\n",
        "if(a<b and a<c):\n",
        "  print(\"a is minimum\")\n",
        "elif(b<c):\n",
        "  print(\"b is minimum\")\n",
        "else:\n",
        "  print(\"c is minimum\")"
      ],
      "metadata": {
        "colab": {
          "base_uri": "https://localhost:8080/"
        },
        "id": "FFtyVBXaN7lI",
        "outputId": "7b10f54c-5f94-4e7c-c09f-7fe8179c9e0a"
      },
      "execution_count": null,
      "outputs": [
        {
          "output_type": "stream",
          "name": "stdout",
          "text": [
            "enter a: 12\n",
            "enter b: 41\n",
            "enter c: 2\n",
            "c is minimum\n"
          ]
        }
      ]
    },
    {
      "cell_type": "code",
      "source": [
        "a=10;b=20;c=3;\n",
        "if(a<b and a<c):\n",
        "  print(\"a is minimum\")\n",
        "elif(b<c):\n",
        "  print(\"b is minimum\")\n",
        "else:\n",
        "  print(\"c is minimum\")"
      ],
      "metadata": {
        "colab": {
          "base_uri": "https://localhost:8080/"
        },
        "id": "sLPUIgYhOohY",
        "outputId": "c2fd8956-2a6b-479c-e2a3-0a3a518e71be"
      },
      "execution_count": null,
      "outputs": [
        {
          "output_type": "stream",
          "name": "stdout",
          "text": [
            "c is minimum\n"
          ]
        }
      ]
    },
    {
      "cell_type": "code",
      "source": [
        "#positive or negative or zero\n",
        "a=int(input(\"enter a: \"))\n",
        "if(a>0):\n",
        "  print(\"a is positive number\")\n",
        "elif(a<0):\n",
        "  print(\"a is negative number\")\n",
        "else:\n",
        "  print(\"a is 0\")"
      ],
      "metadata": {
        "colab": {
          "base_uri": "https://localhost:8080/"
        },
        "id": "vmCBRqHbO5rI",
        "outputId": "88c2eb29-104b-4bc6-f626-0ff52a199783"
      },
      "execution_count": null,
      "outputs": [
        {
          "output_type": "stream",
          "name": "stdout",
          "text": [
            "enter a: 0\n",
            "a is 0\n"
          ]
        }
      ]
    },
    {
      "cell_type": "code",
      "source": [
        "a=10;\n",
        "if(a>0):\n",
        "  print(\"a is positive number\")\n",
        "elif(a<0):\n",
        "  print(\"a is negative number\")\n",
        "else:\n",
        "  print(\"a is 0\")"
      ],
      "metadata": {
        "colab": {
          "base_uri": "https://localhost:8080/"
        },
        "id": "rGRLRUj6PaSa",
        "outputId": "c54e9f38-18ff-41ab-dde0-22193f2d7490"
      },
      "execution_count": null,
      "outputs": [
        {
          "output_type": "stream",
          "name": "stdout",
          "text": [
            "a is positive number\n"
          ]
        }
      ]
    },
    {
      "cell_type": "code",
      "source": [
        "#types of triangle\n",
        "a=int(input(\"enter a: \"))\n",
        "b=int(input(\"enter b: \"))\n",
        "c=int(input(\"enter c: \"))\n",
        "if(a+b>c and b+c>a and c+a>b):\n",
        "  if(a==b and b==c):\n",
        "    print(\"equilateral triangle\")\n",
        "  elif(a==b or b==c):\n",
        "    print(\"isocelse triangle\")\n",
        "  else:\n",
        "    print(\"scalene triangle\")\n",
        "else:\n",
        "    print(\"triangle not possible\")"
      ],
      "metadata": {
        "colab": {
          "base_uri": "https://localhost:8080/"
        },
        "id": "Da40l4FMYQfe",
        "outputId": "50fbc5e4-a7e4-40fb-afd0-3b138b28a81a"
      },
      "execution_count": null,
      "outputs": [
        {
          "output_type": "stream",
          "name": "stdout",
          "text": [
            "enter a: 2\n",
            "enter b: 2\n",
            "enter c: 2\n",
            "equilateral triangle\n"
          ]
        }
      ]
    },
    {
      "cell_type": "code",
      "source": [
        "#finding a leap year\n",
        "a=int(input(\"enter a year: \"))\n",
        "if(a%4==0):\n",
        "  if(a%100==0):\n",
        "    if(a%400==0):\n",
        "      print(\"it is a leap year\")\n",
        "    else:\n",
        "      print(\"it is not a leap year\")\n",
        "  else:\n",
        "    print(\"it is a leap year\")\n",
        "else:\n",
        "  print(\"it is not a leap year\")"
      ],
      "metadata": {
        "colab": {
          "base_uri": "https://localhost:8080/"
        },
        "id": "as3jCFA-Y6zQ",
        "outputId": "ba5ed3f8-a2e7-4ce7-ca14-2a23da5a671f"
      },
      "execution_count": null,
      "outputs": [
        {
          "output_type": "stream",
          "name": "stdout",
          "text": [
            "enter a year: 2012\n",
            "it is a leap year\n"
          ]
        }
      ]
    },
    {
      "cell_type": "code",
      "source": [
        "year = int(input(\"Enter Year: \"))\n",
        "\n",
        "# Leap Year Check\n",
        "if year % 4 == 0 and year % 100 != 0:\n",
        "    print(year, \"is a Leap Year\")\n",
        "elif year % 100 == 0:\n",
        "    print(year, \"is not a Leap Year\")\n",
        "elif year % 400 ==0:\n",
        "    print(year, \"is a Leap Year\")\n",
        "else:\n",
        "    print(year, \"is not a Leap Year\")"
      ],
      "metadata": {
        "id": "5xBgEU2_Z153",
        "outputId": "6e6120ac-ecb2-452e-f938-10734dbb49e9",
        "colab": {
          "base_uri": "https://localhost:8080/"
        }
      },
      "execution_count": null,
      "outputs": [
        {
          "output_type": "stream",
          "name": "stdout",
          "text": [
            "Enter Year: 2004\n",
            "2004 is a Leap Year\n"
          ]
        }
      ]
    }
  ]
}