{
  "nbformat": 4,
  "nbformat_minor": 0,
  "metadata": {
    "colab": {
      "name": "Mid 1.ipynb",
      "provenance": [],
      "collapsed_sections": [],
      "authorship_tag": "ABX9TyN3WeDz7IhROYrRRzkwJJa0",
      "include_colab_link": true
    },
    "kernelspec": {
      "name": "python3",
      "display_name": "Python 3"
    },
    "language_info": {
      "name": "python"
    }
  },
  "cells": [
    {
      "cell_type": "markdown",
      "metadata": {
        "id": "view-in-github",
        "colab_type": "text"
      },
      "source": [
        "<a href=\"https://colab.research.google.com/github/KOLLURUSRIKAR/pythonPrograms/blob/MODULE-2/Mid_1.ipynb\" target=\"_parent\"><img src=\"https://colab.research.google.com/assets/colab-badge.svg\" alt=\"Open In Colab\"/></a>"
      ]
    },
    {
      "cell_type": "code",
      "source": [
        "# write a program to print prime numbers in given range by using function range(25 to 50)\n",
        "def prime(a,b):\n",
        "  for i in range(a,b+1):\n",
        "    k=0\n",
        "    for j in range(2,i):\n",
        "      if i%j==0:\n",
        "        k+=1\n",
        "    if k==0:\n",
        "      print(i)\n",
        "\n",
        "l=int(input(\"enter number: \"))\n",
        "m=int(input(\"enter number: \"))\n",
        "prime(l,m)"
      ],
      "metadata": {
        "colab": {
          "base_uri": "https://localhost:8080/"
        },
        "id": "keayZUWMhY75",
        "outputId": "3b43ac41-940a-410f-eb72-69d214514263"
      },
      "execution_count": null,
      "outputs": [
        {
          "output_type": "stream",
          "name": "stdout",
          "text": [
            "enter number: 25\n",
            "enter number: 51\n",
            "29\n",
            "31\n",
            "37\n",
            "41\n",
            "43\n",
            "47\n"
          ]
        }
      ]
    },
    {
      "cell_type": "code",
      "source": [
        "# write a program to read any month in integer and display days for that month\n",
        "def month(x):\n",
        "  if x==1 or x==3 or x==5 or x==7 or x==8 or x==10 or x==12:\n",
        "    print(\"31 days \")\n",
        "  elif x==2:\n",
        "    print(\"28/29 days\")\n",
        "  elif x==4 or x==6 or x== 9 or x==11:\n",
        "    print(\"30 days\")\n",
        "a=int(input(\"enter month number: \"))\n",
        "month(a)"
      ],
      "metadata": {
        "id": "IRJTwk1gaj1J",
        "colab": {
          "base_uri": "https://localhost:8080/"
        },
        "outputId": "d9d86c64-3012-424e-cd08-619096e217aa"
      },
      "execution_count": null,
      "outputs": [
        {
          "output_type": "stream",
          "name": "stdout",
          "text": [
            "enter month number: 7\n",
            "31 days \n"
          ]
        }
      ]
    },
    {
      "cell_type": "code",
      "source": [
        "# write a python program to print even length  words in a string \n",
        "def even(s):\n",
        "  s=s.split(\" \")\n",
        "  for i in s :\n",
        "    if len(i)%2==0:\n",
        "      print(i)\n",
        "s=\"this is a python class\"\n",
        "even(s)"
      ],
      "metadata": {
        "id": "32MW1kgCa6Wp",
        "colab": {
          "base_uri": "https://localhost:8080/"
        },
        "outputId": "224ad15b-b9cb-4d99-ff73-c336590f6343"
      },
      "execution_count": null,
      "outputs": [
        {
          "output_type": "stream",
          "name": "stdout",
          "text": [
            "this\n",
            "is\n",
            "python\n"
          ]
        }
      ]
    },
    {
      "cell_type": "code",
      "source": [
        "# a) write a python program to capitalize the first letter and last letter of each word\n",
        "# a \n",
        "a=str(input(\"enter a string: \"))\n",
        "n=a.split()\n",
        "s=''\n",
        "for i in n:\n",
        "  b=i.capitalize()\n",
        "  c=i[-1].capitalize()\n",
        "  s=b[0:-1]+c\n",
        "  print(s,end=\" \")"
      ],
      "metadata": {
        "id": "4QEv_odubn-y",
        "colab": {
          "base_uri": "https://localhost:8080/"
        },
        "outputId": "6b26cf91-8e84-468e-b93e-f0f5d441581e"
      },
      "execution_count": null,
      "outputs": [
        {
          "output_type": "stream",
          "name": "stdout",
          "text": [
            "enter a string: hello world\n",
            "HellO WorlD "
          ]
        }
      ]
    },
    {
      "cell_type": "code",
      "source": [
        "# b) write a program to read a string from user display first character of each word with capital letter\n",
        "a=str(input(\"enter a string: \"))\n",
        "n=a.split()\n",
        "s=\"\"\n",
        "for i in n:\n",
        "  b=i.capitalize()\n",
        "  s=b[0:]\n",
        "  print(s,end=\" \")"
      ],
      "metadata": {
        "colab": {
          "base_uri": "https://localhost:8080/"
        },
        "id": "KEPWlMR5tCbp",
        "outputId": "428ca15b-bc69-41a9-8af6-89314880730a"
      },
      "execution_count": null,
      "outputs": [
        {
          "output_type": "stream",
          "name": "stdout",
          "text": [
            "enter a string: hello world\n",
            "Hello World "
          ]
        }
      ]
    },
    {
      "cell_type": "code",
      "source": [
        "# write a python program to covert a list of multiple integers into single integer\n",
        "a=eval(input(\"enter list of numbers:  \"))\n",
        "b=\"\"\n",
        "for i in a :\n",
        "  b+=str(i)\n",
        "print(b)"
      ],
      "metadata": {
        "id": "628F2NswcNr5",
        "colab": {
          "base_uri": "https://localhost:8080/"
        },
        "outputId": "d43225df-97e8-404d-9f16-b0306cd84ead"
      },
      "execution_count": null,
      "outputs": [
        {
          "output_type": "stream",
          "name": "stdout",
          "text": [
            "enter list of numbers:  11,24,30\n",
            "112430\n"
          ]
        }
      ]
    },
    {
      "cell_type": "code",
      "source": [
        "# write a python program to find power of with using recurssion and without recurssion\n",
        "# N=2 and P=3 output=8\n",
        "print(\"without recurssion\")\n",
        "import math\n",
        "n=int(input())\n",
        "p=int(input())\n",
        "x=math.pow(n,p)\n",
        "print(x)\n",
        "print(\"with recurssion\")\n",
        "def power(n,p):\n",
        "  if p==0:\n",
        "    return 1\n",
        "  else:\n",
        "    return (n*power(n,p-1))\n",
        "n=int(input())\n",
        "p=int(input())\n",
        "r=power(n,p)\n",
        "print(f\"n power p={r}\")"
      ],
      "metadata": {
        "id": "iYKTHFtvJwXw",
        "colab": {
          "base_uri": "https://localhost:8080/"
        },
        "outputId": "f82eb642-5bdf-47e6-fe1e-46ff93392502"
      },
      "execution_count": null,
      "outputs": [
        {
          "output_type": "stream",
          "name": "stdout",
          "text": [
            "without recurssion\n",
            "2\n",
            "3\n",
            "8.0\n",
            "with recurssion\n",
            "2\n",
            "3\n",
            "n power p=8\n"
          ]
        }
      ]
    },
    {
      "cell_type": "code",
      "source": [
        "# write a program to sort tuples by total digits \n",
        "#input: list=[(3,4,6,723),(1,2),(134,234,34)]\n",
        "a=[(3,4,6,723),(1,2),(134,234,34)]\n",
        "a.sort()\n",
        "print(a)"
      ],
      "metadata": {
        "id": "VDU1LNsaKG8n",
        "colab": {
          "base_uri": "https://localhost:8080/"
        },
        "outputId": "859bd4fd-219a-4f62-a15d-32cee04e7069"
      },
      "execution_count": null,
      "outputs": [
        {
          "output_type": "stream",
          "name": "stdout",
          "text": [
            "[(1, 2), (3, 4, 6, 723), (134, 234, 34)]\n"
          ]
        }
      ]
    },
    {
      "cell_type": "code",
      "source": [
        "# # take 5 subject marks from user and display the grade of the student \n",
        "# # if avg\n",
        "# 90-100 o\n",
        "# 80-89 a+\n",
        "# 70-79 a\n",
        "# 60-69 b+\n",
        "# 40-59 c\n",
        "# <40   f\n",
        "b=0\n",
        "x=5\n",
        "for i in range(1,x+1):\n",
        "  x=int(input(\"enter subject marks: \"))\n",
        "  b+=x\n",
        "avg=b/5\n",
        "if avg>=90:\n",
        "  print(\"O grade\")\n",
        "elif avg>=80:\n",
        "  print(\"A+ grade\")\n",
        "elif avg>=70:\n",
        "  print('A grade')\n",
        "elif avg>=60:\n",
        "  print('B+ grade')\n",
        "elif avg>=40:\n",
        "  print('C grade')\n",
        "else:\n",
        "  print('fail')"
      ],
      "metadata": {
        "id": "wAAmU2MsKmk_",
        "colab": {
          "base_uri": "https://localhost:8080/"
        },
        "outputId": "318d6a8d-b585-40b1-afef-0e6e844014f1"
      },
      "execution_count": null,
      "outputs": [
        {
          "output_type": "stream",
          "name": "stdout",
          "text": [
            "enter subject marks: 90\n",
            "enter subject marks: 90\n",
            "enter subject marks: 90\n",
            "enter subject marks: 90\n",
            "enter subject marks: 90\n",
            "o grade\n"
          ]
        }
      ]
    },
    {
      "cell_type": "code",
      "source": [
        "# write a python program that prints \"1\" if all the three given  numbers are in ascending order\n",
        "#input=1,2,3\n",
        "#output=1\n",
        "l=[1,2,3]\n",
        "b=[]\n",
        "b.extend(l)\n",
        "l.sort()\n",
        "if l==b:\n",
        "  print(1)\n",
        "else:\n",
        "  print(0)"
      ],
      "metadata": {
        "id": "KOsnKsyhLWTo",
        "colab": {
          "base_uri": "https://localhost:8080/"
        },
        "outputId": "c00d0ec6-38fd-4b1a-b87b-3dea69d91b8b"
      },
      "execution_count": null,
      "outputs": [
        {
          "output_type": "stream",
          "name": "stdout",
          "text": [
            "1\n"
          ]
        }
      ]
    },
    {
      "cell_type": "code",
      "source": [
        "# check given number is perfect or not\n",
        "a=int(input(\"enter a number: \"))\n",
        "s=0\n",
        "for i in range(1,(a//2+1)):\n",
        "  if a%i==0:\n",
        "    s+=i\n",
        "if s==a:\n",
        "  print(\"perfect number\")\n",
        "else:\n",
        "  print(\"not perfect number\")"
      ],
      "metadata": {
        "id": "8Jz3BmwEL18_",
        "colab": {
          "base_uri": "https://localhost:8080/"
        },
        "outputId": "a62c8882-14ab-4050-b8bf-7f163e3f7e75"
      },
      "execution_count": null,
      "outputs": [
        {
          "output_type": "stream",
          "name": "stdout",
          "text": [
            "enter a number: 6\n",
            "perfect number\n"
          ]
        }
      ]
    },
    {
      "cell_type": "code",
      "source": [
        "# check given string is palindrome or not\n",
        "# input=malayalam\n",
        "s=input(\"enter a string: \")\n",
        "b=s[::-1]\n",
        "if s==b:\n",
        "  print(\"it is a palindrome\")\n",
        "else:\n",
        "  print(\"not a palindrome\")"
      ],
      "metadata": {
        "id": "ghPMx0rWMDFn",
        "colab": {
          "base_uri": "https://localhost:8080/"
        },
        "outputId": "90e7e3fb-c558-4248-84bc-cb265897d57f"
      },
      "execution_count": null,
      "outputs": [
        {
          "output_type": "stream",
          "name": "stdout",
          "text": [
            "enter a string: malayalam\n",
            "it is a palindrome\n"
          ]
        }
      ]
    },
    {
      "cell_type": "code",
      "source": [
        "# print sum of even digits in a number\n",
        "# input:1243\n",
        "#output:6\n",
        "n=int(input(\"enter a number: \"))\n",
        "s=0\n",
        "for i in range (n):\n",
        "  r=n%10\n",
        "  if r%2==0:\n",
        "    s+=r\n",
        "  n=n//10\n",
        "print(s)"
      ],
      "metadata": {
        "id": "gCE02on9Mvgv",
        "colab": {
          "base_uri": "https://localhost:8080/"
        },
        "outputId": "c00e78f4-dc83-4998-85e1-67c09da60c6a"
      },
      "execution_count": null,
      "outputs": [
        {
          "output_type": "stream",
          "name": "stdout",
          "text": [
            "enter a number: 1243\n",
            "6\n"
          ]
        }
      ]
    },
    {
      "cell_type": "code",
      "source": [
        "# write a program to calculate the sum of squares of digits of a number given by yourself\n",
        "#input:123\n",
        "#output:14\n",
        "n=int(input(\"enter a number: \"))\n",
        "s=0\n",
        "for i in range(n):\n",
        "  r=n%10\n",
        "  b=(r*r)\n",
        "  s+=b\n",
        "  n=n//10\n",
        "print(s)"
      ],
      "metadata": {
        "id": "IAypTuClNARp",
        "colab": {
          "base_uri": "https://localhost:8080/"
        },
        "outputId": "abedf335-64a7-46f5-d3f5-65f1f27842a1"
      },
      "execution_count": null,
      "outputs": [
        {
          "output_type": "stream",
          "name": "stdout",
          "text": [
            "enter a number: 123\n",
            "14\n"
          ]
        }
      ]
    },
    {
      "cell_type": "code",
      "source": [
        "# given a string \"s\" s=abcdefcba how many times the 'i'th charachter \n",
        "a=input()\n",
        "s=0\n",
        "l=len(a)//2\n",
        "for i in range (l):\n",
        "  x=a[i]\n",
        "  y=a[-(i+1)]\n",
        "  if x==y:\n",
        "    s+=1\n",
        "print(s)"
      ],
      "metadata": {
        "id": "RIEwq10SNdVg",
        "colab": {
          "base_uri": "https://localhost:8080/"
        },
        "outputId": "b3878742-fdc3-4243-93ef-af9472b2dc07"
      },
      "execution_count": null,
      "outputs": [
        {
          "output_type": "stream",
          "name": "stdout",
          "text": [
            "abcdefcba\n",
            "3\n"
          ]
        }
      ]
    },
    {
      "cell_type": "code",
      "source": [
        "# given an integer n,return a list containing\n",
        "#1223334444 and finally repeated n times\n",
        "n=int(input(\"enter a number: \"))\n",
        "b=[]\n",
        "for i in range(n+1):\n",
        "  for j in range(i):\n",
        "    b.append(i)\n",
        "print(b)"
      ],
      "metadata": {
        "id": "-cBJWFPyOwEX",
        "colab": {
          "base_uri": "https://localhost:8080/"
        },
        "outputId": "a8b61b3f-15cc-45e4-dd2c-de91038a5b05"
      },
      "execution_count": null,
      "outputs": [
        {
          "output_type": "stream",
          "name": "stdout",
          "text": [
            "enter a number: 4\n",
            "[1, 2, 2, 3, 3, 3, 4, 4, 4, 4]\n"
          ]
        }
      ]
    },
    {
      "cell_type": "code",
      "source": [
        "# print no of vowels and no of consonants in a given string\n",
        "#Input:gitam university\n",
        "#vowels:6 and consonants:10\n",
        "a=input()\n",
        "v=0\n",
        "c=0\n",
        "for i in range(len(a)):\n",
        "  if a[i]==\"a\" or a[i]==\"e\" or a[i]==\"o\" or a[i]==\"u\" or a[i]==\"i\":\n",
        "    v+=1\n",
        "  else:\n",
        "    c+=1\n",
        "print(\"no of vowels: \",v)\n",
        "print(\"no of consonants: \",c)"
      ],
      "metadata": {
        "colab": {
          "base_uri": "https://localhost:8080/"
        },
        "id": "SLc4n7HtPDin",
        "outputId": "a65d31f4-98ab-4a8b-ec51-3f050bd35096"
      },
      "execution_count": null,
      "outputs": [
        {
          "output_type": "stream",
          "name": "stdout",
          "text": [
            "gitam university\n",
            "no of vowels:  6\n",
            "no of consonants:  10\n"
          ]
        }
      ]
    },
    {
      "cell_type": "code",
      "source": [
        "#given two integers a and b if a<b print all numbers from a to b in the ascending order else print in descending order\n",
        "#input 12,15\n",
        "#output 12,13,14,15       \n",
        "a=int(input(\"enter first number: \"))\n",
        "b=int(input(\"enter second number: \"))\n",
        "if a<b:\n",
        "  for i in range(a,b+1):\n",
        "    print(i)\n",
        "elif a>b:\n",
        "  while(b!=a+1):\n",
        "    print(a)\n",
        "    a-=1"
      ],
      "metadata": {
        "colab": {
          "base_uri": "https://localhost:8080/"
        },
        "id": "SZib8fXUPdK2",
        "outputId": "dab5e73f-6f45-4276-dca5-79b9845a1ff5"
      },
      "execution_count": null,
      "outputs": [
        {
          "output_type": "stream",
          "name": "stdout",
          "text": [
            "enter first number: 15\n",
            "enter second number: 12\n",
            "15\n",
            "14\n",
            "13\n",
            "12\n"
          ]
        }
      ]
    },
    {
      "cell_type": "code",
      "source": [
        "# write a program to count the number of srings where the string length is 2 or more and the first and last characters are same from given list of strings\n",
        "x=[\"xyz\",\"1221\",\"abc\",\"aba\"]\n",
        "for i in x:\n",
        "  if len(i)>2:\n",
        "    if i[0]==i[-1]:\n",
        "      print(i)"
      ],
      "metadata": {
        "colab": {
          "base_uri": "https://localhost:8080/"
        },
        "id": "6qyTPuqBP-MP",
        "outputId": "a01cd691-146a-4daf-84fa-e800e4fa0474"
      },
      "execution_count": null,
      "outputs": [
        {
          "output_type": "stream",
          "name": "stdout",
          "text": [
            "1221\n",
            "aba\n"
          ]
        }
      ]
    },
    {
      "cell_type": "code",
      "source": [
        "# walking track of 3 kms roundtrip of walking track means 3+3=6 take the input from the user as no of days no of roundtrips convert the kms to meters\n",
        "# and if distance is less than 40000 meters \"need to walk more\" and greater than 40000 \"done a great job\"\n",
        "a=int(input(\"enter no of days:\"))\n",
        "b=int(input(\"enter no of rounds: \"))\n",
        "c=a*b*6000\n",
        "if c>40000:\n",
        "  print(\"Done a great job\")\n",
        "else:\n",
        "  print(\"need to walk more\")"
      ],
      "metadata": {
        "id": "BiB5qYTEQyOX",
        "colab": {
          "base_uri": "https://localhost:8080/"
        },
        "outputId": "ce6cdb1e-94eb-4366-a911-85af30e7934f"
      },
      "execution_count": null,
      "outputs": [
        {
          "output_type": "stream",
          "name": "stdout",
          "text": [
            "enter no of days:5\n",
            "enter no of rounds: 5\n",
            "Done a great job\n"
          ]
        }
      ]
    },
    {
      "cell_type": "code",
      "source": [
        "# given a list of students names in l[] and character display the names of students whose first letter is given character and input\n",
        "l=[\"srikar\",\"mahidhar\",\"harsha\",\"kushwanth\",\"kaushik\",\"saketh\",\"sai charan\",\"s\"]\n",
        "b=str(input())\n",
        "c=[]\n",
        "for i in l :\n",
        "  if i[0]==b:\n",
        "    c.append(i)\n",
        "print(c)"
      ],
      "metadata": {
        "colab": {
          "base_uri": "https://localhost:8080/"
        },
        "id": "s33OxijrSIkG",
        "outputId": "42d0d55c-1474-4c63-a4f1-ba4c62196199"
      },
      "execution_count": null,
      "outputs": [
        {
          "output_type": "stream",
          "name": "stdout",
          "text": [
            "s\n",
            "['srikar', 'saketh', 'sai charan', 's']\n"
          ]
        }
      ]
    },
    {
      "cell_type": "code",
      "source": [
        "# given a list of city names whose length is greater than ,print the city names whose length is greater than given length\n",
        "a=['delhi','patna','agra','hyderabad','vizag','goa','tirupati']\n",
        "n=int(input(\"enter a number: \"))\n",
        "b=[]\n",
        "for i in a:\n",
        "  if len(i)>=n:\n",
        "    b.append(i)\n",
        "print(b)"
      ],
      "metadata": {
        "colab": {
          "base_uri": "https://localhost:8080/"
        },
        "id": "pDapAXgnSsQG",
        "outputId": "6a51c826-d052-4424-86d9-d54f43f3db98"
      },
      "execution_count": null,
      "outputs": [
        {
          "output_type": "stream",
          "name": "stdout",
          "text": [
            "enter a number: 4\n",
            "['delhi', 'patna', 'agra', 'hyderabad', 'vizag', 'tirupati']\n"
          ]
        }
      ]
    },
    {
      "cell_type": "code",
      "source": [
        "# prime number\n",
        "n=int(input(\"enter a number: \"))\n",
        "k=0\n",
        "for i in range(2,(n//2+1)):\n",
        "  if n%i==0:\n",
        "    k+=1\n",
        "    break\n",
        "if k==0:\n",
        "  print(\"prime number\")\n",
        "else:\n",
        "  print(\"not a prime number\")\n",
        "    "
      ],
      "metadata": {
        "colab": {
          "base_uri": "https://localhost:8080/"
        },
        "id": "8Z31kfIbYhqL",
        "outputId": "dadeb465-82f4-4c8d-9326-f4e39a8ed66c"
      },
      "execution_count": null,
      "outputs": [
        {
          "output_type": "stream",
          "name": "stdout",
          "text": [
            "enter a number: 5\n",
            "prime number\n"
          ]
        }
      ]
    },
    {
      "cell_type": "code",
      "source": [
        "subject=(\"programming in python\")\n",
        "x=subject.title()\n",
        "print(x)\n",
        "y=subject.strip()\n",
        "print(y)\n"
      ],
      "metadata": {
        "colab": {
          "base_uri": "https://localhost:8080/"
        },
        "id": "tLI40JCKYr9z",
        "outputId": "fe1af249-126c-4f00-d32a-81dfb7f01452"
      },
      "execution_count": null,
      "outputs": [
        {
          "output_type": "stream",
          "name": "stdout",
          "text": [
            "Programming In Python\n",
            "programming in python\n"
          ]
        }
      ]
    },
    {
      "cell_type": "code",
      "source": [
        "counter=1\n",
        "sum=0\n",
        "while counter<=6:\n",
        "  sum=sum+counter\n",
        "  counter=counter+2\n",
        "print(sum)"
      ],
      "metadata": {
        "colab": {
          "base_uri": "https://localhost:8080/"
        },
        "id": "O9BG8uolZqRR",
        "outputId": "00915d0e-a6ec-440b-8a67-c2f49f0b3629"
      },
      "execution_count": null,
      "outputs": [
        {
          "output_type": "stream",
          "name": "stdout",
          "text": [
            "9\n"
          ]
        }
      ]
    },
    {
      "cell_type": "code",
      "source": [
        "sampleSet = {\"Yellow\", \"Orange\", \"Black\"}\n",
        "sampleSet.discard(\"Orange\")\n",
        "print(sampleSet)"
      ],
      "metadata": {
        "colab": {
          "base_uri": "https://localhost:8080/"
        },
        "id": "QkyfU8fec1Y8",
        "outputId": "f54e620a-ac0e-4a92-a49e-39c8cf785f8c"
      },
      "execution_count": null,
      "outputs": [
        {
          "output_type": "stream",
          "name": "stdout",
          "text": [
            "{'Yellow', 'Black'}\n"
          ]
        }
      ]
    },
    {
      "cell_type": "code",
      "source": [
        "# Write a python program that changes all the occurrences of the word \"you\" with \"U\" and all the occurrences of the word \"for\" with \"4\".\n",
        "# If the sentence is not having either \"you\" or \"for\", input string has to be displayed as it is.\n",
        "# For example:\n",
        "# Input\tResult\n",
        "# Thank you for your participation.\n",
        "# Thank U 4 Ur participation.\n",
        "# Thanks a lot.\n",
        "# Thanks a lot.\n",
        "s=\"Thank you for your participation.\"\n",
        "a=''\n",
        "m=input(\"enter the string that needs to be replaced: \")\n",
        "n=input(\"enter the replacing string: \")\n",
        "c=input(\"enter the 2nd string that needs to be reaplaced: \")\n",
        "b=input(\"enter the replacing string: \")\n",
        "a=s.replace(m,n)\n",
        "d=s.replace(c,b)\n",
        "print(a+d)"
      ],
      "metadata": {
        "colab": {
          "base_uri": "https://localhost:8080/"
        },
        "id": "C_ygwyT0pErV",
        "outputId": "defe6805-3a6e-48d5-96fd-a4c774f7fd7c"
      },
      "execution_count": null,
      "outputs": [
        {
          "output_type": "stream",
          "name": "stdout",
          "text": [
            "enter the string that needs to be replaced: you\n",
            "enter the replacing string: U\n",
            "enter the 2nd string that needs to be reaplaced: for\n",
            "enter the replacing string: 4\n",
            "Thank U for Ur participation.Thank you 4 your participation.\n"
          ]
        }
      ]
    },
    {
      "cell_type": "code",
      "source": [
        "#Write a python program to print even length words in a String.\n",
        "s=\"this is a python class\"\n",
        "s=s.split(\" \")\n",
        "for i in s :\n",
        "  if len(i)%2==0:\n",
        "    print(i)"
      ],
      "metadata": {
        "colab": {
          "base_uri": "https://localhost:8080/"
        },
        "id": "LtA2-raZsr-E",
        "outputId": "1c2d23dd-56b5-4ff9-d44a-ff365275b315"
      },
      "execution_count": null,
      "outputs": [
        {
          "output_type": "stream",
          "name": "stdout",
          "text": [
            "this\n",
            "is\n",
            "python\n"
          ]
        }
      ]
    }
  ]
}