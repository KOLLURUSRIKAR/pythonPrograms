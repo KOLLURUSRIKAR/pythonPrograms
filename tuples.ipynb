{
  "nbformat": 4,
  "nbformat_minor": 0,
  "metadata": {
    "colab": {
      "name": "tuples.ipynb",
      "provenance": [],
      "collapsed_sections": [],
      "authorship_tag": "ABX9TyMZPCK3bxhPWd7J3JGzWG6k",
      "include_colab_link": true
    },
    "kernelspec": {
      "name": "python3",
      "display_name": "Python 3"
    },
    "language_info": {
      "name": "python"
    }
  },
  "cells": [
    {
      "cell_type": "markdown",
      "metadata": {
        "id": "view-in-github",
        "colab_type": "text"
      },
      "source": [
        "<a href=\"https://colab.research.google.com/github/KOLLURUSRIKAR/pythonPrograms/blob/MODULE-2/tuples.ipynb\" target=\"_parent\"><img src=\"https://colab.research.google.com/assets/colab-badge.svg\" alt=\"Open In Colab\"/></a>"
      ]
    },
    {
      "cell_type": "markdown",
      "source": [
        "# tuples"
      ],
      "metadata": {
        "id": "WZhMNQZjTgzO"
      }
    },
    {
      "cell_type": "code",
      "source": [
        "tuple=(\"apple\",\"banana\",\"pineapple\")\n",
        "print(tuple)"
      ],
      "metadata": {
        "colab": {
          "base_uri": "https://localhost:8080/"
        },
        "id": "5mWDO1j8TkAe",
        "outputId": "536394c2-651d-442e-b006-188c35f5fd40"
      },
      "execution_count": null,
      "outputs": [
        {
          "output_type": "stream",
          "name": "stdout",
          "text": [
            "('apple', 'banana', 'pineapple')\n"
          ]
        }
      ]
    },
    {
      "cell_type": "code",
      "source": [
        "# duplicates in tuples\n",
        "tuple=(\"apple\",\"banana\",\"pineapple\",\"apple\")  # duplicates are accepted in tuples\n",
        "print(tuple)"
      ],
      "metadata": {
        "colab": {
          "base_uri": "https://localhost:8080/"
        },
        "id": "zRr6Hcu3T-uu",
        "outputId": "bcd6a36f-c0e6-42f9-f411-d77e425f2239"
      },
      "execution_count": null,
      "outputs": [
        {
          "output_type": "stream",
          "name": "stdout",
          "text": [
            "('apple', 'banana', 'pineapple', 'apple')\n"
          ]
        }
      ]
    },
    {
      "cell_type": "code",
      "source": [
        "# length of a tuple\n",
        "tuple=(\"apple\",\"banana\",\"pineapple\",\"apple\")\n",
        "print(len(tuple))"
      ],
      "metadata": {
        "colab": {
          "base_uri": "https://localhost:8080/"
        },
        "id": "cWQnANhjULw1",
        "outputId": "fc8e28c2-24a4-467e-a949-b9db60a44ae4"
      },
      "execution_count": null,
      "outputs": [
        {
          "output_type": "stream",
          "name": "stdout",
          "text": [
            "4\n"
          ]
        }
      ]
    },
    {
      "cell_type": "code",
      "source": [
        "# data types of a tuple\n",
        "tuple=(\"apple\",\"banana\",\"pineapple\",\"apple\",1,)\n",
        "print(tuple)"
      ],
      "metadata": {
        "colab": {
          "base_uri": "https://localhost:8080/"
        },
        "id": "LDkF0oppU5-X",
        "outputId": "bd1cdfe4-2f9a-4df5-f54f-29c3f891aa5f"
      },
      "execution_count": null,
      "outputs": [
        {
          "output_type": "stream",
          "name": "stdout",
          "text": [
            "('apple', 'banana', 'pineapple', 'apple', 1)\n"
          ]
        }
      ]
    },
    {
      "cell_type": "code",
      "source": [
        "# changing tuple values\n",
        "x = (\"apple\", \"banana\", \"cherry\")\n",
        "y=list(x)\n",
        "y[1]=\"kiwi\"\n",
        "x=list(y)\n",
        "z=tuple(x)\n",
        "print(z)\n"
      ],
      "metadata": {
        "colab": {
          "base_uri": "https://localhost:8080/"
        },
        "id": "444H-GNgXw2Z",
        "outputId": "e3b7eae8-456e-4f6a-fb67-7250e9e99031"
      },
      "execution_count": null,
      "outputs": [
        {
          "output_type": "stream",
          "name": "stdout",
          "text": [
            "('apple', 'kiwi', 'cherry')\n"
          ]
        }
      ]
    },
    {
      "cell_type": "code",
      "source": [
        "# adding items in a tuple by converting\n",
        "x = (\"apple\", \"banana\", \"cherry\")\n",
        "y=list(x)\n",
        "y.append(\"pineapple\")\n",
        "x=list(y)\n",
        "z=tuple(x)\n",
        "a=list(z)\n",
        "a.append(\"watermelon\")\n",
        "b=tuple(a)\n",
        "print(b)"
      ],
      "metadata": {
        "colab": {
          "base_uri": "https://localhost:8080/"
        },
        "id": "pemkjZWFYYDh",
        "outputId": "3a01c4f3-0854-43eb-bfee-a47f16d539b6"
      },
      "execution_count": null,
      "outputs": [
        {
          "output_type": "stream",
          "name": "stdout",
          "text": [
            "('apple', 'banana', 'cherry', 'pineapple', 'watermelon')\n"
          ]
        }
      ]
    },
    {
      "cell_type": "code",
      "source": [
        "# adding tuple to a tuple\n",
        "x = (\"apple\", \"banana\", \"cherry\")\n",
        "y=(\"orange\",)\n",
        "x+=y\n",
        "print(x)"
      ],
      "metadata": {
        "colab": {
          "base_uri": "https://localhost:8080/"
        },
        "id": "rSUcSdpyZWw6",
        "outputId": "fa462deb-dc76-4c70-9699-6a04f8c768ec"
      },
      "execution_count": null,
      "outputs": [
        {
          "output_type": "stream",
          "name": "stdout",
          "text": [
            "('apple', 'banana', 'cherry', 'orange')\n"
          ]
        }
      ]
    },
    {
      "cell_type": "code",
      "source": [
        "# removing items in a tuple\n",
        "x=(\"apple\",\"banana\",\"orange\",\"kiwi\")\n",
        "y=list(x)\n",
        "y.remove(\"orange\")\n",
        "print(y)"
      ],
      "metadata": {
        "colab": {
          "base_uri": "https://localhost:8080/"
        },
        "id": "VmP3CHKQZ_PS",
        "outputId": "5f2136e6-d44d-4643-d994-3ea9a54c6621"
      },
      "execution_count": null,
      "outputs": [
        {
          "output_type": "stream",
          "name": "stdout",
          "text": [
            "['apple', 'banana', 'kiwi']\n"
          ]
        }
      ]
    },
    {
      "cell_type": "code",
      "source": [
        "fruits = (\"apple\", \"banana\", \"guava\")\n",
        "\n",
        "(red,yellow,green) = fruits\n",
        "\n",
        "print(green)\n",
        "print(yellow)\n",
        "print(red)"
      ],
      "metadata": {
        "colab": {
          "base_uri": "https://localhost:8080/"
        },
        "id": "Z0iHtrAfcLxZ",
        "outputId": "59a9a9e2-9126-4415-a5fb-d6742729b5d9"
      },
      "execution_count": null,
      "outputs": [
        {
          "output_type": "stream",
          "name": "stdout",
          "text": [
            "guava\n",
            "banana\n",
            "apple\n"
          ]
        }
      ]
    },
    {
      "cell_type": "code",
      "source": [
        "# for loop in tuples\n",
        "tuple=(\"apple\",\"banana\",\"pineapple\")\n",
        "for x in tuple:\n",
        "  print(x)"
      ],
      "metadata": {
        "colab": {
          "base_uri": "https://localhost:8080/"
        },
        "id": "nIdo25TfcWbQ",
        "outputId": "abd7ce79-254e-4811-d5e2-50c8fe0855ff"
      },
      "execution_count": null,
      "outputs": [
        {
          "output_type": "stream",
          "name": "stdout",
          "text": [
            "apple\n",
            "banana\n",
            "pineapple\n"
          ]
        }
      ]
    },
    {
      "cell_type": "code",
      "source": [
        "tuple=(\"apple\",\"banana\",\"pineapple\")\n",
        "for i in range(len(tuple)):\n",
        "  print(tuple[i])"
      ],
      "metadata": {
        "colab": {
          "base_uri": "https://localhost:8080/"
        },
        "id": "TQegtVt-cnWA",
        "outputId": "577d82b1-6832-4199-afa9-408c225c515c"
      },
      "execution_count": null,
      "outputs": [
        {
          "output_type": "stream",
          "name": "stdout",
          "text": [
            "apple\n",
            "banana\n",
            "pineapple\n"
          ]
        }
      ]
    }
  ]
}