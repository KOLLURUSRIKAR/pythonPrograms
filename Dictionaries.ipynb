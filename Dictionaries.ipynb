{
  "nbformat": 4,
  "nbformat_minor": 0,
  "metadata": {
    "colab": {
      "name": "Dictionaries.ipynb",
      "provenance": [],
      "collapsed_sections": [],
      "authorship_tag": "ABX9TyMPs1pEJRusH1ztwWofXTwP",
      "include_colab_link": true
    },
    "kernelspec": {
      "name": "python3",
      "display_name": "Python 3"
    },
    "language_info": {
      "name": "python"
    }
  },
  "cells": [
    {
      "cell_type": "markdown",
      "metadata": {
        "id": "view-in-github",
        "colab_type": "text"
      },
      "source": [
        "<a href=\"https://colab.research.google.com/github/KOLLURUSRIKAR/pythonPrograms/blob/MODULE-2/Dictionaries.ipynb\" target=\"_parent\"><img src=\"https://colab.research.google.com/assets/colab-badge.svg\" alt=\"Open In Colab\"/></a>"
      ]
    },
    {
      "cell_type": "markdown",
      "source": [
        "# dictionaries"
      ],
      "metadata": {
        "id": "ia0DaPGohSff"
      }
    },
    {
      "cell_type": "code",
      "source": [
        "placements={\n",
        "    \"name\":(input(\"enter name: \")),\n",
        "    \"age\":(input(\"enter age: \")),\n",
        "    \"CGPA\":(input(\"enter CGPA: \")),\n",
        "    \"section\":(input(\"enter section: \")),\n",
        "    \"phone number\":(input(\"enter phone number: \"))\n",
        "}\n",
        "print(placements)\n",
        "print(placements[\"CGPA\"])"
      ],
      "metadata": {
        "colab": {
          "base_uri": "https://localhost:8080/"
        },
        "id": "u_PP7g1ShVqw",
        "outputId": "95d7030f-1e42-449a-bb2c-fd3c9f833a97"
      },
      "execution_count": null,
      "outputs": [
        {
          "output_type": "stream",
          "name": "stdout",
          "text": [
            "enter name: srikar\n",
            "enter age: 18\n",
            "enter CGPA: 10\n",
            "enter section: cse(ai and ml)\n",
            "enter phone number: 8897887208\n",
            "{'name': 'srikar', 'age': '18', 'CGPA': '10', 'section': 'cse(ai and ml)', 'phone number': '8897887208'}\n",
            "10\n"
          ]
        }
      ]
    },
    {
      "cell_type": "code",
      "source": [
        "# get and keys\n",
        "x=placements.get(\"CGPA\")\n",
        "print(x)\n",
        "print(\"success!\")\n",
        "y=placements.keys()\n",
        "print(y)\n",
        "print(\"success!\")"
      ],
      "metadata": {
        "colab": {
          "base_uri": "https://localhost:8080/"
        },
        "id": "D_eOc1g2kAfJ",
        "outputId": "cd51dc85-ef94-4076-b605-f975c28b31c1"
      },
      "execution_count": null,
      "outputs": [
        {
          "output_type": "stream",
          "name": "stdout",
          "text": [
            "10\n",
            "success!\n",
            "dict_keys(['name', 'age', 'CGPA', 'section', 'phone number'])\n",
            "success!\n"
          ]
        }
      ]
    },
    {
      "cell_type": "code",
      "source": [
        "# adding a key to the dictionary\n",
        "x=placements.keys()\n",
        "print(x)# before adding\n",
        "placements[\"no of internships\"]=\"5\"\n",
        "y=placements.keys()\n",
        "print(y)# after adding\n",
        "z=placements.get(\"no of internships\")\n",
        "print(z)# accessing the item which was newly added"
      ],
      "metadata": {
        "colab": {
          "base_uri": "https://localhost:8080/"
        },
        "id": "eJmqsb__kmjH",
        "outputId": "06bb73ac-0e01-475a-e3e9-a99ef95ea1f1"
      },
      "execution_count": null,
      "outputs": [
        {
          "output_type": "stream",
          "name": "stdout",
          "text": [
            "dict_keys(['name', 'age', 'CGPA', 'section', 'phone number', 'no of internships'])\n",
            "dict_keys(['name', 'age', 'CGPA', 'section', 'phone number', 'no of internships'])\n",
            "5\n"
          ]
        }
      ]
    },
    {
      "cell_type": "code",
      "source": [
        "# changing items in dictionaries\n",
        "placements={\n",
        "    \"name\":\"srikar\",\n",
        "    \"age\":18,\n",
        "    \"CGPA\":9.8,\n",
        "    \"section\":\"CSE(AI AND ML)\",\n",
        "    \"phone number\":8897887208\n",
        "}\n",
        "placements[\"CGPA\"]=10\n",
        "print(placements)"
      ],
      "metadata": {
        "id": "lSiR-RPYCEyQ",
        "colab": {
          "base_uri": "https://localhost:8080/"
        },
        "outputId": "8fcebc93-b136-4429-ef65-19c68f71d29d"
      },
      "execution_count": null,
      "outputs": [
        {
          "output_type": "stream",
          "name": "stdout",
          "text": [
            "{'name': 'srikar', 'age': 18, 'CGPA': 10, 'section': 'CSE(AI AND ML)', 'phone number': 8897887208}\n"
          ]
        }
      ]
    },
    {
      "cell_type": "code",
      "source": [
        "placements={\n",
        "    \"name\":\"srikar\",\n",
        "    \"age\":18,\n",
        "    \"CGPA\":9.8,\n",
        "    \"section\":\"CSE(AI AND ML)\",\n",
        "    \"phone number\":8897887208\n",
        "}\n",
        "placements.update({\"no of internships\":3})\n",
        "print(placements)"
      ],
      "metadata": {
        "colab": {
          "base_uri": "https://localhost:8080/"
        },
        "id": "9JzIpBjCDftA",
        "outputId": "6402db80-377e-4f4a-fdbd-5316b41aca19"
      },
      "execution_count": null,
      "outputs": [
        {
          "output_type": "stream",
          "name": "stdout",
          "text": [
            "{'name': 'srikar', 'age': 18, 'CGPA': 9.8, 'section': 'CSE(AI AND ML)', 'phone number': 8897887208, 'no of internships': 3}\n"
          ]
        }
      ]
    },
    {
      "cell_type": "code",
      "source": [
        "# removing items in dictionaries\n",
        "placements={\n",
        "    \"name\":\"srikar\",\n",
        "    \"age\":18,\n",
        "    \"CGPA\":9.8,\n",
        "    \"section\":\"CSE(AI AND ML)\",\n",
        "    \"phone number\":8897887208\n",
        "}\n",
        "placements.pop(\"age\")\n",
        "print(placements)\n",
        "placements.popitem()\n",
        "print(placements)\n",
        "del placements[\"CGPA\"]\n",
        "print(placements)"
      ],
      "metadata": {
        "colab": {
          "base_uri": "https://localhost:8080/"
        },
        "id": "OUWac4o-En3j",
        "outputId": "0d4c865e-5602-4804-a47e-052feef68db2"
      },
      "execution_count": null,
      "outputs": [
        {
          "output_type": "stream",
          "name": "stdout",
          "text": [
            "{'name': 'srikar', 'CGPA': 9.8, 'section': 'CSE(AI AND ML)', 'phone number': 8897887208}\n",
            "{'name': 'srikar', 'CGPA': 9.8, 'section': 'CSE(AI AND ML)'}\n",
            "{'name': 'srikar', 'section': 'CSE(AI AND ML)'}\n"
          ]
        }
      ]
    },
    {
      "cell_type": "code",
      "source": [
        "# loop in dictionaries\n",
        "placements={\n",
        "    \"name\":\"srikar\",\n",
        "    \"age\":18,\n",
        "    \"CGPA\":9.8,\n",
        "    \"section\":\"CSE(AI AND ML)\",\n",
        "    \"phone number\":8897887208\n",
        "}\n",
        "for x in placements:\n",
        "  print(x)\n",
        "\n",
        "print(\"1st action completed\")\n",
        "\n",
        "for x in placements:\n",
        "  print(placements[x])\n",
        "\n",
        "print(\"2nd action complete\")\n",
        "\n",
        "for x in placements.values():\n",
        "  print(x)\n",
        "\n",
        "print(\"3rd action complete\")\n",
        "\n",
        "for x in placements.keys():\n",
        "  print(x)\n",
        "\n",
        "print(\"4th action complete\")\n",
        "\n",
        "for x,y in placements.items():\n",
        "  print(x,y)\n",
        "\n",
        "print(\"5th action complete\")"
      ],
      "metadata": {
        "colab": {
          "base_uri": "https://localhost:8080/"
        },
        "id": "Hw9d8nFjFWxA",
        "outputId": "de63b819-4a9d-4bdf-e565-1a4044ae7d4c"
      },
      "execution_count": null,
      "outputs": [
        {
          "output_type": "stream",
          "name": "stdout",
          "text": [
            "name\n",
            "age\n",
            "CGPA\n",
            "section\n",
            "phone number\n",
            "1st action completed\n",
            "srikar\n",
            "18\n",
            "9.8\n",
            "CSE(AI AND ML)\n",
            "8897887208\n",
            "2nd action complete\n",
            "srikar\n",
            "18\n",
            "9.8\n",
            "CSE(AI AND ML)\n",
            "8897887208\n",
            "3rd action complete\n",
            "name\n",
            "age\n",
            "CGPA\n",
            "section\n",
            "phone number\n",
            "4th action complete\n",
            "name srikar\n",
            "age 18\n",
            "CGPA 9.8\n",
            "section CSE(AI AND ML)\n",
            "phone number 8897887208\n",
            "5th action complete\n"
          ]
        }
      ]
    },
    {
      "cell_type": "code",
      "source": [
        "# copying dictionary items\n",
        "placements={\n",
        "    \"name\":\"srikar\",\n",
        "    \"age\":18,\n",
        "    \"CGPA\":9.8,\n",
        "    \"section\":\"CSE(AI AND ML)\",\n",
        "    \"phone number\":8897887208\n",
        "}\n",
        "placement=placements.copy()\n",
        "print(placement)"
      ],
      "metadata": {
        "colab": {
          "base_uri": "https://localhost:8080/"
        },
        "id": "E9G0cUcJIhaW",
        "outputId": "2463912e-fffe-46fd-9d6b-574cbe4b704a"
      },
      "execution_count": null,
      "outputs": [
        {
          "output_type": "stream",
          "name": "stdout",
          "text": [
            "{'name': 'srikar', 'age': 18, 'CGPA': 9.8, 'section': 'CSE(AI AND ML)', 'phone number': 8897887208}\n"
          ]
        }
      ]
    },
    {
      "cell_type": "code",
      "source": [
        "placements={\n",
        "    \"name\":\"srikar\",\n",
        "    \"age\":18,\n",
        "    \"CGPA\":9.8,\n",
        "    \"section\":\"CSE(AI AND ML)\",\n",
        "    \"phone number\":8897887208\n",
        "}\n",
        "print(placements)\n",
        "print(placements[\"age\"])\n",
        "x=placements[\"section\"]\n",
        "print(x)\n",
        "y=placements.get(\"CGPA\")\n",
        "print(y)\n",
        "z=placements.keys()\n",
        "print(z)\n",
        "a=placements.values()\n",
        "print(a)\n",
        "placements[\"age\"]=19\n",
        "print(placements)\n",
        "placements[\"languages\"]='python'\n",
        "print(placements)\n",
        "placements.pop(\"age\")\n",
        "print(placements)"
      ],
      "metadata": {
        "colab": {
          "base_uri": "https://localhost:8080/"
        },
        "id": "E2eAG1X3T5Up",
        "outputId": "6152f175-456c-46b4-a019-1cfc8f711c04"
      },
      "execution_count": null,
      "outputs": [
        {
          "output_type": "stream",
          "name": "stdout",
          "text": [
            "{'name': 'srikar', 'age': 18, 'CGPA': 9.8, 'section': 'CSE(AI AND ML)', 'phone number': 8897887208}\n",
            "18\n",
            "CSE(AI AND ML)\n",
            "9.8\n",
            "dict_keys(['name', 'age', 'CGPA', 'section', 'phone number'])\n",
            "dict_values(['srikar', 18, 9.8, 'CSE(AI AND ML)', 8897887208])\n",
            "{'name': 'srikar', 'age': 19, 'CGPA': 9.8, 'section': 'CSE(AI AND ML)', 'phone number': 8897887208}\n",
            "{'name': 'srikar', 'age': 19, 'CGPA': 9.8, 'section': 'CSE(AI AND ML)', 'phone number': 8897887208, 'languages': 'python'}\n",
            "{'name': 'srikar', 'CGPA': 9.8, 'section': 'CSE(AI AND ML)', 'phone number': 8897887208, 'languages': 'python'}\n"
          ]
        }
      ]
    }
  ]
}