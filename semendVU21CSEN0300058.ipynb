{
  "nbformat": 4,
  "nbformat_minor": 0,
  "metadata": {
    "colab": {
      "name": "semendVU21CSEN0300058.ipynb",
      "provenance": [],
      "include_colab_link": true
    },
    "kernelspec": {
      "name": "python3",
      "display_name": "Python 3"
    },
    "language_info": {
      "name": "python"
    }
  },
  "cells": [
    {
      "cell_type": "markdown",
      "metadata": {
        "id": "view-in-github",
        "colab_type": "text"
      },
      "source": [
        "<a href=\"https://colab.research.google.com/github/KOLLURUSRIKAR/pythonPrograms/blob/main/semendVU21CSEN0300058.ipynb\" target=\"_parent\"><img src=\"https://colab.research.google.com/assets/colab-badge.svg\" alt=\"Open In Colab\"/></a>"
      ]
    },
    {
      "cell_type": "code",
      "execution_count": null,
      "metadata": {
        "colab": {
          "base_uri": "https://localhost:8080/"
        },
        "id": "z6oJCpFAe-KG",
        "outputId": "e3c5dc2b-558f-4b8f-ab08-dd4421008c36"
      },
      "outputs": [
        {
          "output_type": "stream",
          "name": "stdout",
          "text": [
            "enter a number:2\n",
            "enter another number:4\n",
            "enter operation to be performed:add\n",
            "6\n"
          ]
        }
      ],
      "source": [
        "a=int(input(\"enter a number:\"))\n",
        "b=int(input(\"enter another number:\"))\n",
        "c=input(\"enter operation to be performed:\")\n",
        "if c==\"add\":\n",
        "  print(a+b)\n",
        "elif c==\"subtract\":\n",
        "  print(a-b)\n",
        "elif c==\"multiply\":\n",
        "  print(a*b)\n",
        "elif c==\"divide\":\n",
        "  print(a//b)\n",
        "elif c==\"mod\":\n",
        "  print(a%b)"
      ]
    },
    {
      "cell_type": "code",
      "source": [
        "n=int(input(\"enter a number:\"))\n",
        "s=0\n",
        "for i in range(1,(n//2+1)):\n",
        "  if n%i==0:\n",
        "    s+=i\n",
        "if s==n:\n",
        "  print(\"perfect number\")\n",
        "else:\n",
        "  print(\"not a perfect number\")"
      ],
      "metadata": {
        "colab": {
          "base_uri": "https://localhost:8080/"
        },
        "id": "vkrDoR6Pgmqu",
        "outputId": "6cc2d5a8-e6ee-4a2e-8c4d-3d3a00c68da0"
      },
      "execution_count": null,
      "outputs": [
        {
          "output_type": "stream",
          "name": "stdout",
          "text": [
            "enter a number:6\n",
            "perfect number\n"
          ]
        }
      ]
    },
    {
      "cell_type": "code",
      "source": [
        "def product(x,y):\n",
        "  if (x<y):\n",
        "    return product(y,x)\n",
        "  elif y!=0:\n",
        "    return (x+product(x,y-1))\n",
        "  else:\n",
        "    return 0\n",
        "x=int(input(\"enter a number:\"))\n",
        "y=int(input(\"enter another number: \"))\n",
        "product(x,y)"
      ],
      "metadata": {
        "colab": {
          "base_uri": "https://localhost:8080/"
        },
        "id": "h_oub4ithLf0",
        "outputId": "080ddd35-50a2-4d00-bec9-67806a279478"
      },
      "execution_count": null,
      "outputs": [
        {
          "name": "stdout",
          "output_type": "stream",
          "text": [
            "enter a number:2\n",
            "enter another number: 5\n"
          ]
        },
        {
          "output_type": "execute_result",
          "data": {
            "text/plain": [
              "10"
            ]
          },
          "metadata": {},
          "execution_count": 7
        }
      ]
    },
    {
      "cell_type": "code",
      "source": [
        "list=[\"red\",\"green\",\"white\",\"black\",\"pink\",\"yellow\"]\n",
        "print(list[2])\n",
        "print(list[3])\n",
        "print(list[-1])"
      ],
      "metadata": {
        "colab": {
          "base_uri": "https://localhost:8080/"
        },
        "id": "JF_qY6DXh1jl",
        "outputId": "92f2a749-312d-4dae-c1a2-66947316d847"
      },
      "execution_count": null,
      "outputs": [
        {
          "output_type": "stream",
          "name": "stdout",
          "text": [
            "white\n",
            "black\n",
            "yellow\n"
          ]
        }
      ]
    },
    {
      "cell_type": "code",
      "source": [
        "import matplotlib.pyplot as plt\n",
        "import numpy as np\n",
        "x=np.random.normal(90,95,80)\n",
        "plt.hist(x)\n",
        "plt.show()"
      ],
      "metadata": {
        "colab": {
          "base_uri": "https://localhost:8080/",
          "height": 265
        },
        "id": "ugZPrSaMZGN7",
        "outputId": "a905ccad-6023-4a0a-cf49-08422f986982"
      },
      "execution_count": null,
      "outputs": [
        {
          "output_type": "display_data",
          "data": {
            "text/plain": [
              "<Figure size 432x288 with 1 Axes>"
            ],
            "image/png": "[encoded data removed]"
          },
          "metadata": {
            "needs_background": "light"
          }
        }
      ]
    },
    {
      "cell_type": "code",
      "source": [
        "create table restaurent(name varchar(20), price varchar(4), rating varchar (3), location varchar(20), discount varchar(3))\n",
        "\n",
        "insert into restaurent values('novotel','2000','4.5','RK Beach','20%')\n",
        "\n",
        "insert into restaurent values('daspalla','1500','4','jagadamba','25%')\n",
        "\n",
        "insert into restaurent values('dolphin','2000','4.5','suryabhag','15%')\n",
        "\n",
        "insert into restaurent values('tantern hut','1700','3.5','rushikonda','25%')\n",
        "\n",
        "insert into restaurent values('platform 65','3500','2.5','waltair uplands','30%')\n",
        "\n",
        "select * from restaurent where rating>3.5\n",
        "\n"
      ],
      "metadata": {
        "id": "4dTSNHIyc4LE"
      },
      "execution_count": null,
      "outputs": []
    }
  ]
}