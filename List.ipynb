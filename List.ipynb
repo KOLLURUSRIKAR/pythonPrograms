{
  "nbformat": 4,
  "nbformat_minor": 0,
  "metadata": {
    "colab": {
      "name": "List.ipynb",
      "provenance": [],
      "collapsed_sections": [],
      "authorship_tag": "ABX9TyNx7UE5Cbs0tTkomO2fa/5i",
      "include_colab_link": true
    },
    "kernelspec": {
      "name": "python3",
      "display_name": "Python 3"
    },
    "language_info": {
      "name": "python"
    }
  },
  "cells": [
    {
      "cell_type": "markdown",
      "metadata": {
        "id": "view-in-github",
        "colab_type": "text"
      },
      "source": [
        "<a href=\"https://colab.research.google.com/github/KOLLURUSRIKAR/pythonPrograms/blob/MODULE-2/List.ipynb\" target=\"_parent\"><img src=\"https://colab.research.google.com/assets/colab-badge.svg\" alt=\"Open In Colab\"/></a>"
      ]
    },
    {
      "cell_type": "code",
      "execution_count": null,
      "metadata": {
        "colab": {
          "base_uri": "https://localhost:8080/"
        },
        "id": "FdDMUGqq4ZTZ",
        "outputId": "dfc09165-e9c6-477b-aaa0-031252a22c66"
      },
      "outputs": [
        {
          "output_type": "stream",
          "name": "stdout",
          "text": [
            "banana\n",
            "pineapple   banana\n",
            "1\n",
            "['apple', 'pineapple', 'banana']\n",
            "1\n",
            "['apple', 'strawberry', 'banana', 'grapes', 'watermelon', '1']\n",
            "['apple', 'strawberry', 'kiwi', 'banana', 'grapes', 'watermelon', '1']\n",
            "['apple', 'strawberry', 'kiwi', 'sappota', 'guava', 'banana', 'grapes', 'watermelon', '1']\n",
            "['1', 'watermelon', 'grapes', 'banana', 'guava', 'sappota', 'kiwi', 'strawberry', 'apple']\n",
            "['1', 'apple', 'banana', 'grapes', 'guava', 'kiwi', 'sappota', 'strawberry', 'watermelon']\n",
            "['1', 'apple', 'grapes', 'guava', 'kiwi', 'sappota', 'strawberry', 'watermelon']\n",
            "8\n"
          ]
        }
      ],
      "source": [
        "#working on lists\n",
        "fruit=[\"apple\",\"pineapple\",\"banana\",\"grapes\",\"watermelon\",'1']\n",
        "print(fruit[2])\n",
        "print(fruit[1],\" \",fruit[2])\n",
        "print(fruit[5])\n",
        "print(fruit[0:3])\n",
        "#negative indexing\n",
        "print(fruit[-1])\n",
        "#changing elements\n",
        "fruit[1]='strawberry'\n",
        "print(fruit)\n",
        "#insert elements\n",
        "fruit.insert(2,'kiwi')\n",
        "print(fruit)\n",
        "fruit[3:3]=['sappota','guava']\n",
        "print(fruit)\n",
        "#reverse list\n",
        "fruit.reverse()\n",
        "print(fruit)\n",
        "#sorting lists\n",
        "fruit.sort()\n",
        "print(fruit)\n",
        "#deleting elements in list\n",
        "del fruit[2]\n",
        "print(fruit)\n",
        "#no of elements in list\n",
        "print(len(fruit))"
      ]
    },
    {
      "cell_type": "code",
      "source": [
        "fruit=[\"apple\",\"pineapple\",\"banana\",\"grapes\",\"watermelon\",1]\n",
        "fruit[2]\n",
        "fruit[1],\" \",fruit[2]\n",
        "fruit[5]\n",
        "fruit[0:3]\n",
        "fruit[-1]"
      ],
      "metadata": {
        "colab": {
          "base_uri": "https://localhost:8080/"
        },
        "id": "NmH-GW7S7ITh",
        "outputId": "553e0a92-9b3a-4844-daa5-5b69b851e1f1"
      },
      "execution_count": null,
      "outputs": [
        {
          "output_type": "execute_result",
          "data": {
            "text/plain": [
              "1"
            ]
          },
          "metadata": {},
          "execution_count": 12
        }
      ]
    },
    {
      "cell_type": "code",
      "source": [
        "#numbers\n",
        "numbers=['20','30','40','15']\n",
        "print(numbers[0])\n",
        "numbers[1]+numbers[2]\n"
      ],
      "metadata": {
        "colab": {
          "base_uri": "https://localhost:8080/",
          "height": 53
        },
        "id": "T3O-35528cZo",
        "outputId": "e4e00926-582f-4d54-d1a9-b0f85e6a6f15"
      },
      "execution_count": null,
      "outputs": [
        {
          "output_type": "stream",
          "name": "stdout",
          "text": [
            "20\n"
          ]
        },
        {
          "output_type": "execute_result",
          "data": {
            "text/plain": [
              "'3040'"
            ],
            "application/vnd.google.colaboratory.intrinsic+json": {
              "type": "string"
            }
          },
          "metadata": {},
          "execution_count": 16
        }
      ]
    },
    {
      "cell_type": "code",
      "source": [
        "# List slicing in Python\n",
        "\n",
        "my_list = ['a','b','c','d','e','f','g','h']\n",
        "\n",
        "# elements from index 2 to index 4\n",
        "print(my_list[2:5])\n",
        "\n",
        "# elements from index 5 to end\n",
        "print(my_list[5:])\n",
        "\n",
        "# elements beginning to end\n",
        "print(my_list[:])"
      ],
      "metadata": {
        "colab": {
          "base_uri": "https://localhost:8080/"
        },
        "id": "JD2R5dEf-opS",
        "outputId": "6001a044-6f9f-4915-d322-8cf98c399fa3"
      },
      "execution_count": null,
      "outputs": [
        {
          "output_type": "stream",
          "name": "stdout",
          "text": [
            "['c', 'd', 'e']\n",
            "['f', 'g', 'h']\n",
            "['a', 'b', 'c', 'd', 'e', 'f', 'g', 'h']\n"
          ]
        }
      ]
    },
    {
      "cell_type": "code",
      "source": [
        "#appending the lists\n",
        "names=['srikar','harsha','sohan']\n",
        "names.append('saketh')\n",
        "print(names)\n",
        "names.extend(['kushwanth','mahidhar','omsri'])\n",
        "print(names)\n",
        "names.insert(1,['sai charan','kaushik'])\n",
        "print(names)"
      ],
      "metadata": {
        "colab": {
          "base_uri": "https://localhost:8080/"
        },
        "id": "ijPIgume_a5H",
        "outputId": "571d4947-0066-4d77-ff70-6a14482044b6"
      },
      "execution_count": null,
      "outputs": [
        {
          "output_type": "stream",
          "name": "stdout",
          "text": [
            "['srikar', 'harsha', 'sohan', 'saketh']\n",
            "['srikar', 'harsha', 'sohan', 'saketh', 'kushwanth', 'mahidhar', 'omsri']\n",
            "['srikar', ['sai charan', 'kaushik'], 'harsha', 'sohan', 'saketh', 'kushwanth', 'mahidhar', 'omsri']\n"
          ]
        }
      ]
    },
    {
      "cell_type": "code",
      "source": [
        "my_list = ['p','r','o','b','l','e','m']\n",
        "my_list.remove('p')\n",
        "\n",
        "# Output: ['r', 'o', 'b', 'l', 'e', 'm']\n",
        "print(my_list)\n",
        "\n",
        "# Output: 'o'\n",
        "print(my_list.pop(1))\n",
        "\n",
        "# Output: ['r', 'b', 'l', 'e', 'm']\n",
        "print(my_list)\n",
        "\n",
        "# Output: 'm'\n",
        "print(my_list.pop())\n",
        "\n",
        "# Output: ['r', 'b', 'l', 'e']\n",
        "print(my_list)\n",
        "\n",
        "my_list.clear()\n",
        "\n",
        "# Output: []\n",
        "print(my_list)"
      ],
      "metadata": {
        "colab": {
          "base_uri": "https://localhost:8080/"
        },
        "id": "9juzlq0RMy2g",
        "outputId": "61072b17-cdca-4659-cf12-0552c0d81132"
      },
      "execution_count": null,
      "outputs": [
        {
          "output_type": "stream",
          "name": "stdout",
          "text": [
            "['r', 'o', 'b', 'l', 'e', 'm']\n",
            "o\n",
            "['r', 'b', 'l', 'e', 'm']\n",
            "m\n",
            "['r', 'b', 'l', 'e']\n",
            "[]\n"
          ]
        }
      ]
    }
  ]
}