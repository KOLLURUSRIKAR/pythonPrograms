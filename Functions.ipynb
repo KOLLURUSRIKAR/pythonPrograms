{
  "nbformat": 4,
  "nbformat_minor": 0,
  "metadata": {
    "colab": {
      "name": "Functions.ipynb",
      "provenance": [],
      "collapsed_sections": [],
      "authorship_tag": "ABX9TyPUP57sPb0Vebr1zT+pIEhb",
      "include_colab_link": true
    },
    "kernelspec": {
      "name": "python3",
      "display_name": "Python 3"
    },
    "language_info": {
      "name": "python"
    }
  },
  "cells": [
    {
      "cell_type": "markdown",
      "metadata": {
        "id": "view-in-github",
        "colab_type": "text"
      },
      "source": [
        "<a href=\"https://colab.research.google.com/github/KOLLURUSRIKAR/pythonPrograms/blob/MODULE-2/Functions.ipynb\" target=\"_parent\"><img src=\"https://colab.research.google.com/assets/colab-badge.svg\" alt=\"Open In Colab\"/></a>"
      ]
    },
    {
      "cell_type": "markdown",
      "source": [
        "# functions"
      ],
      "metadata": {
        "id": "3jM1lCQsXBEX"
      }
    },
    {
      "cell_type": "code",
      "source": [
        "def Srikar():\n",
        "  print(\"violence violence\")\n",
        "  print(\"violence... i dont like,i avoid\")\n",
        "  print(\"but violence likes me, i can't avoid\")\n",
        "Srikar()"
      ],
      "metadata": {
        "colab": {
          "base_uri": "https://localhost:8080/"
        },
        "id": "rWh6VE9QXEcW",
        "outputId": "8d9b45df-09fa-4d66-e7bf-49d812db8f05"
      },
      "execution_count": null,
      "outputs": [
        {
          "output_type": "stream",
          "name": "stdout",
          "text": [
            "violence violence\n",
            "violence... i dont like,i avoid\n",
            "but violence likes me, i can't avoid\n"
          ]
        }
      ]
    },
    {
      "cell_type": "code",
      "source": [
        "def kgf2(name,villian):\n",
        "  print(name+\" kills \" +villian )\n",
        "\n",
        "kgf2(\"Rockybhai\",\"Adheera\")"
      ],
      "metadata": {
        "colab": {
          "base_uri": "https://localhost:8080/"
        },
        "id": "zqu8HNgtZWJI",
        "outputId": "2446b5db-10c1-488d-86a6-a7fe1ba5b15e"
      },
      "execution_count": null,
      "outputs": [
        {
          "output_type": "stream",
          "name": "stdout",
          "text": [
            "Rockybhai kills Adheera\n"
          ]
        }
      ]
    },
    {
      "cell_type": "code",
      "source": [
        "def vote(age,gender,name):\n",
        "  print(\"age=\",age, \"gender=\",gender, \"name=\",name)\n",
        "vote(18,\"female\",\"kushwathi\")"
      ],
      "metadata": {
        "colab": {
          "base_uri": "https://localhost:8080/"
        },
        "id": "IEPE5khWcUYV",
        "outputId": "9bdbfda3-4922-46cd-dc63-62bfa90e4b1b"
      },
      "execution_count": null,
      "outputs": [
        {
          "output_type": "stream",
          "name": "stdout",
          "text": [
            "age= 18 gender= female name= kushwathi\n"
          ]
        }
      ]
    },
    {
      "cell_type": "code",
      "source": [
        "def voting():\n",
        "  age=int(input(\"enter age: \"))\n",
        "  if(age>=18):\n",
        "    print(\"eligible to vote\")\n",
        "  else:\n",
        "    print(\"not eligible to vote\")\n",
        "voting()"
      ],
      "metadata": {
        "colab": {
          "base_uri": "https://localhost:8080/"
        },
        "id": "tiM0z0Xzdb1O",
        "outputId": "d10e25b5-ef61-4d80-c55d-026427aa2767"
      },
      "execution_count": null,
      "outputs": [
        {
          "output_type": "stream",
          "name": "stdout",
          "text": [
            "enter age: 15\n",
            "not eligible to vote\n"
          ]
        }
      ]
    },
    {
      "cell_type": "code",
      "source": [
        "def vote(age,gender,name):\n",
        "  print(\"age=\",age, \"gender=\",gender, \"name=\",name)\n",
        "  if(age>=18):\n",
        "    print(f\"{name} eligible to vote\")\n",
        "  else:\n",
        "    print(f\"{name} not eligible to vote\")\n",
        "vote(age=int(input()),name=input(),gender=input())"
      ],
      "metadata": {
        "colab": {
          "base_uri": "https://localhost:8080/"
        },
        "id": "ebUbFLK1ihi7",
        "outputId": "40c6629a-f864-43a8-bb8f-d78aa28d26ed"
      },
      "execution_count": null,
      "outputs": [
        {
          "output_type": "stream",
          "name": "stdout",
          "text": [
            "18\n",
            "srikar\n",
            "male\n",
            "age= 18 gender= male name= srikar\n",
            "srikar eligible to vote\n"
          ]
        }
      ]
    },
    {
      "cell_type": "code",
      "source": [
        "def my_function(*city):\n",
        "  print(\"The highest populated city is \" + city[2])\n",
        "\n",
        "my_function(\"vizag\", \"Rajahmundry\", \"Hyderabad\")"
      ],
      "metadata": {
        "colab": {
          "base_uri": "https://localhost:8080/"
        },
        "id": "tapkefErjvTd",
        "outputId": "44c09593-4f8c-43cc-ba2f-18058f8280c5"
      },
      "execution_count": null,
      "outputs": [
        {
          "output_type": "stream",
          "name": "stdout",
          "text": [
            "The highest populated city is Hyderabad\n"
          ]
        }
      ]
    },
    {
      "cell_type": "markdown",
      "source": [
        "# python built in functions"
      ],
      "metadata": {
        "id": "fBXtQFsIlK8E"
      }
    },
    {
      "cell_type": "code",
      "source": [
        "# abs function\n",
        "a=-25.5\n",
        "b=abs(a)\n",
        "print(b)\n",
        "# all function\n",
        "mytuple = (0, True, False)\n",
        "x = all(mytuple)\n",
        "print(x)\n",
        "dict={}\n",
        "# any()\n",
        "mytuple=(1,0,True)\n",
        "x=any(mytuple)\n",
        "print(x)\n",
        "set={0,0,False}\n",
        "y=any(set)\n",
        "print(y)"
      ],
      "metadata": {
        "colab": {
          "base_uri": "https://localhost:8080/"
        },
        "id": "y_Bj393wlBNl",
        "outputId": "88ffe171-51d0-4924-e6f7-cb0867ca4663"
      },
      "execution_count": null,
      "outputs": [
        {
          "output_type": "stream",
          "name": "stdout",
          "text": [
            "25.5\n",
            "False\n",
            "True\n",
            "False\n"
          ]
        }
      ]
    },
    {
      "cell_type": "code",
      "source": [
        ""
      ],
      "metadata": {
        "id": "sE_JA3TBqvnR"
      },
      "execution_count": null,
      "outputs": []
    }
  ]
}